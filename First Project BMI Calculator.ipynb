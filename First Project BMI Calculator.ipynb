{
 "cells": [
  {
   "cell_type": "markdown",
   "id": "8c531247-2105-4e4b-ab29-9c5f86ce9285",
   "metadata": {},
   "source": [
    "BMI CALCULATOR"
   ]
  },
  {
   "cell_type": "code",
   "execution_count": 39,
   "id": "780bea39-04ec-4bfa-b99b-ac9c395de026",
   "metadata": {},
   "outputs": [
    {
     "name": "stdin",
     "output_type": "stream",
     "text": [
      "Enter your name:  Alec\n",
      "Enter your weight in kilograms:  76.5\n",
      "Enter your weight in metres:  1.595\n"
     ]
    },
    {
     "name": "stdout",
     "output_type": "stream",
     "text": [
      "Your BMI is 30.07\n",
      "Alec, you are obese.\n"
     ]
    }
   ],
   "source": [
    "name = input(\"Enter your name: \")\n",
    "weight = float(input(\"Enter your weight in kilograms: \"))\n",
    "height = float(input(\"Enter your weight in metres: \"))\n",
    "\n",
    "BMI = round(float(weight/ (height * height)), 2)\n",
    "print(\"Your BMI is \" +str(BMI))\n",
    "\n",
    "if BMI >0:\n",
    "    if BMI <18.5:\n",
    "        print (name+\", you are underweight.\")\n",
    "    elif BMI <= 22.9:\n",
    "        print (name+\", you are normal weight.\")\n",
    "    elif BMI <=29.9:\n",
    "        print(name+\", you are overweight.\")\n",
    "    else:\n",
    "        print (name+\", you are obese.\")\n",
    "else:\n",
    "    print(\"Enter valid input.\")"
   ]
  }
 ],
 "metadata": {
  "kernelspec": {
   "display_name": "Python 3 (ipykernel)",
   "language": "python",
   "name": "python3"
  },
  "language_info": {
   "codemirror_mode": {
    "name": "ipython",
    "version": 3
   },
   "file_extension": ".py",
   "mimetype": "text/x-python",
   "name": "python",
   "nbconvert_exporter": "python",
   "pygments_lexer": "ipython3",
   "version": "3.12.4"
  }
 },
 "nbformat": 4,
 "nbformat_minor": 5
}
