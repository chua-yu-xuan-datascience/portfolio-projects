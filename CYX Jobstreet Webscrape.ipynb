{
 "cells": [
  {
   "cell_type": "markdown",
   "metadata": {},
   "source": [
    "Return the top 200 most recently posted jobs on the portal, and each job posting should\n",
    "at least contain the Job Title, Job ID, URL, Company, Salary Range (if applicable),\n",
    "and any other information that you deem appropriate. The output should be an\n",
    ".xlsx file "
   ]
  },
  {
   "cell_type": "markdown",
   "metadata": {},
   "source": [
    "# Beautiful Soup"
   ]
  },
  {
   "cell_type": "markdown",
   "metadata": {},
   "source": [
    "Import libraries"
   ]
  },
  {
   "cell_type": "code",
   "execution_count": 12,
   "metadata": {},
   "outputs": [],
   "source": [
    "import requests\n",
    "from bs4 import BeautifulSoup\n",
    "import pandas as pd"
   ]
  },
  {
   "cell_type": "markdown",
   "metadata": {},
   "source": [
    "# to Excel file"
   ]
  },
  {
   "cell_type": "code",
   "execution_count": 13,
   "metadata": {},
   "outputs": [],
   "source": [
    "job_200_list = []"
   ]
  },
  {
   "cell_type": "markdown",
   "metadata": {},
   "source": [
    "Function to scrape jobs from one page"
   ]
  },
  {
   "cell_type": "code",
   "execution_count": 14,
   "metadata": {},
   "outputs": [],
   "source": [
    "def get_jobs_from_page(page_num):\n",
    "    URL = \"https://sg.jobstreet.com/jobs?page={page_num}sortmode=ListedDate\"\n",
    "    page = requests.get(URL)\n",
    "\n",
    "    soup = BeautifulSoup(page.content, \"html.parser\")\n",
    "    job_list = []\n",
    "    job_cards = soup.find_all(attrs={\"data-testid\": \"job-card\"})\n",
    "    \n",
    "    for job in job_cards:\n",
    "        \n",
    "        # Extract job title \n",
    "        job_title_text = job.get('aria-label')\n",
    "        \n",
    "        #Extract job id\n",
    "        job_id = job.get('data-job-id')\n",
    "\n",
    "        #Extract company\n",
    "        company_tag = job.find(attrs={'data-automation': 'jobCompany'})\n",
    "        company_name_text = company_tag.text.strip() if company_tag else 'N/A'\n",
    "\n",
    "        #Extract salary range\n",
    "        salary_tag = job.find(attrs={'data-automation': 'jobSalary'})\n",
    "        salary_range = salary_tag.text.strip() if salary_tag else 'N/A'\n",
    "        \n",
    "        # Extract URL\n",
    "        #url_tag = job.find(attrs={'data-automation': 'job-list-view-job-link'})\n",
    "        #job_url = url_tag['href'] if url_tag else 'N/A'\n",
    "\n",
    "        # Extract Job Type or brief description\n",
    "        job_type_tag = job.find('p')\n",
    "        job_type = job_type_tag.text.strip() if job_type_tag else 'N/A'\n",
    "\n",
    "        # Extract Job Locations\n",
    "        location_tags = job.find_all(attrs={'data-automation': 'jobCardLocation'})\n",
    "        job_locations = [loc.get_text(strip=True) for loc in location_tags]\n",
    "\n",
    "        # Extract Listing Date\n",
    "        listing_date_tag = job.find(attrs={'data-automation': 'jobListingDate'})\n",
    "        listing_date = listing_date_tag.text.strip() if listing_date_tag else 'N/A'\n",
    "\n",
    "        # Append the job data to the list\n",
    "        job_list.append({\n",
    "            'Job Title': job_title_text,\n",
    "            'Job ID': job_id,\n",
    "            #'URL': job_url,\n",
    "            'Company': company_name_text,\n",
    "            'Salary Range': salary_range,\n",
    "            'Job Type': job_type,\n",
    "            'Job Locations': job_locations,\n",
    "            'Listing Date': listing_date\n",
    "        })\n",
    "    return job_list"
   ]
  },
  {
   "cell_type": "markdown",
   "metadata": {},
   "source": [
    "Function to get jobs from beyond page 1"
   ]
  },
  {
   "cell_type": "code",
   "execution_count": 15,
   "metadata": {},
   "outputs": [],
   "source": [
    "page_num = 1\n",
    "total_jobs = 0\n",
    "while total_jobs <200:\n",
    "    jobs = get_jobs_from_page(page_num)\n",
    "    if jobs == False:\n",
    "        print(\"No jobs found on this page or unable to retrieve jobs.\")\n",
    "        break\n",
    "    \n",
    "    # Add the new jobs to the main job_data list\n",
    "    job_200_list.extend(jobs)\n",
    "    \n",
    "    total_jobs = len(job_200_list)\n",
    "    if total_jobs >200: break\n",
    "    \n",
    "    page_num += 1"
   ]
  },
  {
   "cell_type": "code",
   "execution_count": 16,
   "metadata": {},
   "outputs": [
    {
     "data": {
      "text/plain": [
       "224"
      ]
     },
     "execution_count": 16,
     "metadata": {},
     "output_type": "execute_result"
    }
   ],
   "source": [
    "job_200_list\n",
    "len(job_200_list)"
   ]
  },
  {
   "cell_type": "markdown",
   "metadata": {},
   "source": [
    "Convert to df, cut off 200 jobs and save to .xlsx file"
   ]
  },
  {
   "cell_type": "code",
   "execution_count": 18,
   "metadata": {},
   "outputs": [
    {
     "data": {
      "text/html": [
       "<div>\n",
       "<style scoped>\n",
       "    .dataframe tbody tr th:only-of-type {\n",
       "        vertical-align: middle;\n",
       "    }\n",
       "\n",
       "    .dataframe tbody tr th {\n",
       "        vertical-align: top;\n",
       "    }\n",
       "\n",
       "    .dataframe thead th {\n",
       "        text-align: right;\n",
       "    }\n",
       "</style>\n",
       "<table border=\"1\" class=\"dataframe\">\n",
       "  <thead>\n",
       "    <tr style=\"text-align: right;\">\n",
       "      <th></th>\n",
       "      <th>Job Title</th>\n",
       "      <th>Job ID</th>\n",
       "      <th>Company</th>\n",
       "      <th>Salary Range</th>\n",
       "      <th>Job Type</th>\n",
       "      <th>Job Locations</th>\n",
       "      <th>Listing Date</th>\n",
       "    </tr>\n",
       "  </thead>\n",
       "  <tbody>\n",
       "    <tr>\n",
       "      <th>0</th>\n",
       "      <td>Executive, Facilities Management (Incident Man...</td>\n",
       "      <td>81590998</td>\n",
       "      <td>Constellar Group Pte Ltd</td>\n",
       "      <td>N/A</td>\n",
       "      <td>This is a Full time job</td>\n",
       "      <td>[Bedok, ,East Region]</td>\n",
       "      <td>17d ago</td>\n",
       "    </tr>\n",
       "    <tr>\n",
       "      <th>1</th>\n",
       "      <td>Manager, Benefits (Ops) (ID: 664682)</td>\n",
       "      <td>81192387</td>\n",
       "      <td>PERSOLKELLY Singapore Pte Ltd (Formerly Kelly ...</td>\n",
       "      <td>$6,000 – $8,500 per month</td>\n",
       "      <td>This is a Full time job</td>\n",
       "      <td>[Central Region]</td>\n",
       "      <td>2d ago</td>\n",
       "    </tr>\n",
       "    <tr>\n",
       "      <th>2</th>\n",
       "      <td>Sales/ Business Development Executive (Enginee...</td>\n",
       "      <td>81298826</td>\n",
       "      <td>STAFFKING PTE LTD</td>\n",
       "      <td>$3,000 – $3,800 per month</td>\n",
       "      <td>This is a Full time job</td>\n",
       "      <td>[East Region]</td>\n",
       "      <td>30d+ ago</td>\n",
       "    </tr>\n",
       "    <tr>\n",
       "      <th>3</th>\n",
       "      <td>HR cum Admin</td>\n",
       "      <td>81749090</td>\n",
       "      <td>GLORY SIP PTE. LTD.</td>\n",
       "      <td>N/A</td>\n",
       "      <td>This is a Full time job</td>\n",
       "      <td>[Singapore]</td>\n",
       "      <td>9d ago</td>\n",
       "    </tr>\n",
       "    <tr>\n",
       "      <th>4</th>\n",
       "      <td>Service Engineer</td>\n",
       "      <td>81663809</td>\n",
       "      <td>Universal (Far East) Pte Ltd</td>\n",
       "      <td>$3,000 – $3,400 per month</td>\n",
       "      <td>This is a Full time job</td>\n",
       "      <td>[Toa Payoh, ,Central Region]</td>\n",
       "      <td>10d ago</td>\n",
       "    </tr>\n",
       "  </tbody>\n",
       "</table>\n",
       "</div>"
      ],
      "text/plain": [
       "                                           Job Title    Job ID  \\\n",
       "0  Executive, Facilities Management (Incident Man...  81590998   \n",
       "1               Manager, Benefits (Ops) (ID: 664682)  81192387   \n",
       "2  Sales/ Business Development Executive (Enginee...  81298826   \n",
       "3                                       HR cum Admin  81749090   \n",
       "4                                   Service Engineer  81663809   \n",
       "\n",
       "                                             Company  \\\n",
       "0                           Constellar Group Pte Ltd   \n",
       "1  PERSOLKELLY Singapore Pte Ltd (Formerly Kelly ...   \n",
       "2                                  STAFFKING PTE LTD   \n",
       "3                                GLORY SIP PTE. LTD.   \n",
       "4                       Universal (Far East) Pte Ltd   \n",
       "\n",
       "                Salary Range                 Job Type  \\\n",
       "0                        N/A  This is a Full time job   \n",
       "1  $6,000 – $8,500 per month  This is a Full time job   \n",
       "2  $3,000 – $3,800 per month  This is a Full time job   \n",
       "3                        N/A  This is a Full time job   \n",
       "4  $3,000 – $3,400 per month  This is a Full time job   \n",
       "\n",
       "                  Job Locations Listing Date  \n",
       "0         [Bedok, ,East Region]      17d ago  \n",
       "1              [Central Region]       2d ago  \n",
       "2                 [East Region]     30d+ ago  \n",
       "3                   [Singapore]       9d ago  \n",
       "4  [Toa Payoh, ,Central Region]      10d ago  "
      ]
     },
     "execution_count": 18,
     "metadata": {},
     "output_type": "execute_result"
    }
   ],
   "source": [
    "df = pd.DataFrame(job_200_list)\n",
    "df_first_200 = df.head(200)\n",
    "len(df_first_200)\n",
    "df.head(5)"
   ]
  },
  {
   "cell_type": "code",
   "execution_count": null,
   "metadata": {},
   "outputs": [],
   "source": [
    "df_first_200.to_excel('cyx_jobstreet_jobs.xlsx', index=False)"
   ]
  },
  {
   "cell_type": "markdown",
   "metadata": {},
   "source": [
    "# to Google Sheets"
   ]
  },
  {
   "cell_type": "code",
   "execution_count": 37,
   "metadata": {},
   "outputs": [],
   "source": [
    "import gspread\n",
    "from oauth2client.service_account import ServiceAccountCredentials"
   ]
  },
  {
   "cell_type": "code",
   "execution_count": 39,
   "metadata": {},
   "outputs": [
    {
     "name": "stderr",
     "output_type": "stream",
     "text": [
      "C:\\Users\\Admin\\AppData\\Local\\Temp\\ipykernel_3464\\7745990.py:10: SettingWithCopyWarning: \n",
      "A value is trying to be set on a copy of a slice from a DataFrame.\n",
      "Try using .loc[row_indexer,col_indexer] = value instead\n",
      "\n",
      "See the caveats in the documentation: https://pandas.pydata.org/pandas-docs/stable/user_guide/indexing.html#returning-a-view-versus-a-copy\n",
      "  df_first_200['Job Locations'] = df_first_200['Job Locations'].apply(lambda x: \", \".join(x) if isinstance(x, list) else x)\n"
     ]
    },
    {
     "data": {
      "text/plain": [
       "{'spreadsheetId': '1iQaMeo8uVr-wsolRha1iiSq4cZQsjwlwAYFQXSdYnCE',\n",
       " 'updatedRange': 'Sheet1!A1:G201',\n",
       " 'updatedRows': 201,\n",
       " 'updatedColumns': 7,\n",
       " 'updatedCells': 1407}"
      ]
     },
     "execution_count": 39,
     "metadata": {},
     "output_type": "execute_result"
    }
   ],
   "source": [
    "# Authenticate and authorize with Google Sheets API using OAuth2 credentials\n",
    "scope = [\"https://spreadsheets.google.com/feeds\", \"https://www.googleapis.com/auth/drive\"]\n",
    "creds = ServiceAccountCredentials.from_json_keyfile_name(\"/Users/Admin/Downloads/Webscraping/solid-ruler-450505-i5-5edbb392240a.json\", scope)\n",
    "client = gspread.authorize(creds)\n",
    "\n",
    "# Open the Google Sheet by url\n",
    "worksheet = client.open_by_url('https://docs.google.com/spreadsheets/d/1iQaMeo8uVr-wsolRha1iiSq4cZQsjwlwAYFQXSdYnCE/edit?gid=0#gid=0').sheet1\n",
    "\n",
    "# Modify the location column to combine its values into a single string\n",
    "df_first_200['Job Locations'] = df_first_200['Job Locations'].apply(lambda x: \", \".join(x) if isinstance(x, list) else x)\n",
    "\n",
    "# Write the DataFrame to the Google Sheets (starting at row 1, column 1)\n",
    "worksheet.update([df_first_200.columns.values.tolist()] + df_first_200.values.tolist())"
   ]
  },
  {
   "cell_type": "markdown",
   "metadata": {},
   "source": [
    "# Selenium"
   ]
  },
  {
   "cell_type": "markdown",
   "metadata": {},
   "source": [
    "import libraries"
   ]
  },
  {
   "cell_type": "code",
   "execution_count": 7,
   "metadata": {},
   "outputs": [],
   "source": [
    "from selenium import webdriver\n",
    "from selenium.webdriver.chrome.service import Service\n",
    "from webdriver_manager.chrome import ChromeDriverManager\n",
    "from selenium.webdriver.common.by import By\n",
    "from selenium.webdriver.common.keys import Keys\n",
    "\n",
    "from selenium.webdriver.support.ui import WebDriverWait\n",
    "from selenium.webdriver.support import expected_conditions as EC\n",
    "\n",
    "import time\n",
    "import pandas as pd\n"
   ]
  },
  {
   "cell_type": "markdown",
   "metadata": {},
   "source": [
    "Initialise Webdriver"
   ]
  },
  {
   "cell_type": "code",
   "execution_count": 22,
   "metadata": {},
   "outputs": [],
   "source": [
    "driver = webdriver.Chrome(service=Service(ChromeDriverManager().install()))"
   ]
  },
  {
   "cell_type": "code",
   "execution_count": 14,
   "metadata": {},
   "outputs": [],
   "source": [
    "def get_jobs_from_page(page_num):\n",
    "    URL = f\"https://sg.jobstreet.com/jobs?page={page_num}&sortmode=ListedDate\"\n",
    "    \n",
    "    # Open the webpage with Selenium\n",
    "    driver.get(URL)\n",
    "    \n",
    "    # Give the page some time to load (you can use WebDriverWait for a more efficient wait)\n",
    "    time.sleep(3)\n",
    "    \n",
    "    # Find all the job cards on the page\n",
    "    job_list = []\n",
    "    job_cards = driver.find_elements(By.CSS_SELECTOR, '[data-testid=\"job-card\"]')\n",
    "    \n",
    "    # Extract information for each job card\n",
    "    for job in job_cards:\n",
    "        # Extract job title\n",
    "        job_title_text = job.get_attribute('aria-label')\n",
    "        \n",
    "        # Extract job ID\n",
    "        job_id = job.get_attribute('data-job-id')\n",
    "        \n",
    "        # Extract company name\n",
    "        company_tag = job.find_element(By.CSS_SELECTOR, '[data-automation=\"jobCompany\"]')\n",
    "        company_name_text = company_tag.text.strip() if company_tag else 'N/A'\n",
    "        \n",
    "        # Extract salary range\n",
    "        salary_tag = WebDriverWait(driver, 10).until(\n",
    "             EC.presence_of_element_located((By.CSS_SELECTOR, '[data-automation=\"jobSalary\"]'))\n",
    "             )\n",
    "        salary_range = salary_tag.text.strip() if salary_tag else 'N/A'\n",
    "        \n",
    "        # Extract the job URL\n",
    "        url_tag = job.find_element(By.CSS_SELECTOR, '[data-automation=\"job-list-view-job-link\"]')\n",
    "        full_job_url = url_tag.get_attribute('href') if url_tag else 'N/A'\n",
    "        \n",
    "        # Extract Job Type or brief description\n",
    "        job_type_tag = job.find_element(By.TAG_NAME, 'p')\n",
    "        job_type = job_type_tag.text.strip() if job_type_tag else 'N/A'\n",
    "        \n",
    "        # Extract Job Locations\n",
    "        location_tags = job.find_elements(By.CSS_SELECTOR, '[data-automation=\"jobCardLocation\"]')\n",
    "        job_locations = [loc.text.strip() for loc in location_tags]\n",
    "        \n",
    "        # Extract Listing Date\n",
    "        listing_date_tag = job.find_element(By.CSS_SELECTOR, '[data-automation=\"jobListingDate\"]')\n",
    "        listing_date = listing_date_tag.text.strip() if listing_date_tag else 'N/A'\n",
    "\n",
    "        # Append the job data to the list\n",
    "        job_list.append({\n",
    "            'Job Title': job_title_text,\n",
    "            'Job ID': job_id,\n",
    "            'URL': full_job_url,\n",
    "            'Company': company_name_text,\n",
    "            'Salary Range': salary_range,\n",
    "            'Job Type': job_type,\n",
    "            'Job Locations': job_locations,\n",
    "            'Listing Date': listing_date\n",
    "        })\n",
    "    \n",
    "    return job_list\n"
   ]
  },
  {
   "cell_type": "code",
   "execution_count": 15,
   "metadata": {},
   "outputs": [],
   "source": [
    "# Initialize the list to hold all job data\n",
    "job_200_list = []\n",
    "total_jobs = 0\n",
    "page_num = 1\n",
    "\n",
    "# Loop through pages and scrape jobs\n",
    "while total_jobs < 200:\n",
    "    jobs = get_jobs_from_page(page_num)\n",
    "    \n",
    "    if not jobs:\n",
    "        print(\"No jobs found on this page or unable to retrieve jobs.\")\n",
    "        break\n",
    "    \n",
    "    # Add the new jobs to the main job_data list\n",
    "    job_200_list.extend(jobs)\n",
    "    \n",
    "    total_jobs = len(job_200_list)\n",
    "    \n",
    "    if total_jobs >= 200:\n",
    "        break\n",
    "    \n",
    "    # Go to the next page\n",
    "    page_num += 1\n",
    "\n",
    "# Create a DataFrame from the collected job data\n",
    "df = pd.DataFrame(job_200_list)\n",
    "\n",
    "# Get the first 200 rows (in case we scraped more than 200)\n",
    "df_first_200 = df.head(200)"
   ]
  },
  {
   "cell_type": "code",
   "execution_count": 19,
   "metadata": {},
   "outputs": [
    {
     "data": {
      "text/html": [
       "<div>\n",
       "<style scoped>\n",
       "    .dataframe tbody tr th:only-of-type {\n",
       "        vertical-align: middle;\n",
       "    }\n",
       "\n",
       "    .dataframe tbody tr th {\n",
       "        vertical-align: top;\n",
       "    }\n",
       "\n",
       "    .dataframe thead th {\n",
       "        text-align: right;\n",
       "    }\n",
       "</style>\n",
       "<table border=\"1\" class=\"dataframe\">\n",
       "  <thead>\n",
       "    <tr style=\"text-align: right;\">\n",
       "      <th></th>\n",
       "      <th>Job Title</th>\n",
       "      <th>Job ID</th>\n",
       "      <th>URL</th>\n",
       "      <th>Company</th>\n",
       "      <th>Salary Range</th>\n",
       "      <th>Job Type</th>\n",
       "      <th>Job Locations</th>\n",
       "      <th>Listing Date</th>\n",
       "    </tr>\n",
       "  </thead>\n",
       "  <tbody>\n",
       "    <tr>\n",
       "      <th>0</th>\n",
       "      <td>Product Manager</td>\n",
       "      <td>81949957</td>\n",
       "      <td>https://sg.jobstreet.com/job/81949957?type=sta...</td>\n",
       "      <td>UVEX SAFETY SINGAPORE PTE. LTD.</td>\n",
       "      <td>$4,500 – $5,500 per month</td>\n",
       "      <td>This is a Full time job</td>\n",
       "      <td>[Jurong Gateway, , West Region]</td>\n",
       "      <td>1h ago</td>\n",
       "    </tr>\n",
       "    <tr>\n",
       "      <th>1</th>\n",
       "      <td>Electrical/Electronics Engineer (SCDS/TN)</td>\n",
       "      <td>81950005</td>\n",
       "      <td>https://sg.jobstreet.com/job/81950005?type=sta...</td>\n",
       "      <td>ST Engineering Urban Solutions</td>\n",
       "      <td>$4,500 – $5,500 per month</td>\n",
       "      <td>This is a Full time job</td>\n",
       "      <td>[Jurong East, , West Region]</td>\n",
       "      <td>1h ago</td>\n",
       "    </tr>\n",
       "    <tr>\n",
       "      <th>2</th>\n",
       "      <td>Examination Invigilator (Undergraduate) (Contr...</td>\n",
       "      <td>81949988</td>\n",
       "      <td>https://sg.jobstreet.com/job/81949988?type=sta...</td>\n",
       "      <td>Singapore Management University</td>\n",
       "      <td>$4,500 – $5,500 per month</td>\n",
       "      <td>This is a Part time job</td>\n",
       "      <td>[Central Region]</td>\n",
       "      <td>1h ago</td>\n",
       "    </tr>\n",
       "    <tr>\n",
       "      <th>3</th>\n",
       "      <td>Healthcare Assistant (Up $2500 / West / 3-Shifts)</td>\n",
       "      <td>81949960</td>\n",
       "      <td>https://sg.jobstreet.com/job/81949960?type=sta...</td>\n",
       "      <td>MCI Career Services Pte Ltd</td>\n",
       "      <td>$4,500 – $5,500 per month</td>\n",
       "      <td>This is a Full time job</td>\n",
       "      <td>[Jurong East, , West Region]</td>\n",
       "      <td>1h ago</td>\n",
       "    </tr>\n",
       "    <tr>\n",
       "      <th>4</th>\n",
       "      <td>Finance Executive (Township)</td>\n",
       "      <td>81949954</td>\n",
       "      <td>https://sg.jobstreet.com/job/81949954?type=sta...</td>\n",
       "      <td>CPG Facilities Management Pte Ltd</td>\n",
       "      <td>$4,500 – $5,500 per month</td>\n",
       "      <td>This is a Full time job</td>\n",
       "      <td>[North-East Region]</td>\n",
       "      <td>1h ago</td>\n",
       "    </tr>\n",
       "  </tbody>\n",
       "</table>\n",
       "</div>"
      ],
      "text/plain": [
       "                                           Job Title    Job ID  \\\n",
       "0                                    Product Manager  81949957   \n",
       "1          Electrical/Electronics Engineer (SCDS/TN)  81950005   \n",
       "2  Examination Invigilator (Undergraduate) (Contr...  81949988   \n",
       "3  Healthcare Assistant (Up $2500 / West / 3-Shifts)  81949960   \n",
       "4                       Finance Executive (Township)  81949954   \n",
       "\n",
       "                                                 URL  \\\n",
       "0  https://sg.jobstreet.com/job/81949957?type=sta...   \n",
       "1  https://sg.jobstreet.com/job/81950005?type=sta...   \n",
       "2  https://sg.jobstreet.com/job/81949988?type=sta...   \n",
       "3  https://sg.jobstreet.com/job/81949960?type=sta...   \n",
       "4  https://sg.jobstreet.com/job/81949954?type=sta...   \n",
       "\n",
       "                             Company               Salary Range  \\\n",
       "0    UVEX SAFETY SINGAPORE PTE. LTD.  $4,500 – $5,500 per month   \n",
       "1     ST Engineering Urban Solutions  $4,500 – $5,500 per month   \n",
       "2    Singapore Management University  $4,500 – $5,500 per month   \n",
       "3        MCI Career Services Pte Ltd  $4,500 – $5,500 per month   \n",
       "4  CPG Facilities Management Pte Ltd  $4,500 – $5,500 per month   \n",
       "\n",
       "                  Job Type                    Job Locations Listing Date  \n",
       "0  This is a Full time job  [Jurong Gateway, , West Region]       1h ago  \n",
       "1  This is a Full time job     [Jurong East, , West Region]       1h ago  \n",
       "2  This is a Part time job                 [Central Region]       1h ago  \n",
       "3  This is a Full time job     [Jurong East, , West Region]       1h ago  \n",
       "4  This is a Full time job              [North-East Region]       1h ago  "
      ]
     },
     "execution_count": 19,
     "metadata": {},
     "output_type": "execute_result"
    }
   ],
   "source": [
    "df_first_200.head(5)"
   ]
  },
  {
   "cell_type": "markdown",
   "metadata": {},
   "source": [
    "Write the DataFrame to an Excel file"
   ]
  },
  {
   "cell_type": "code",
   "execution_count": 20,
   "metadata": {},
   "outputs": [],
   "source": [
    "df_first_200.to_excel('cyx_jobstreet_jobs_selenium.xlsx', index=False)"
   ]
  },
  {
   "cell_type": "code",
   "execution_count": 23,
   "metadata": {},
   "outputs": [],
   "source": [
    "driver.quit()"
   ]
  }
 ],
 "metadata": {
  "kernelspec": {
   "display_name": "Python 3",
   "language": "python",
   "name": "python3"
  },
  "language_info": {
   "codemirror_mode": {
    "name": "ipython",
    "version": 3
   },
   "file_extension": ".py",
   "mimetype": "text/x-python",
   "name": "python",
   "nbconvert_exporter": "python",
   "pygments_lexer": "ipython3",
   "version": "3.10.11"
  }
 },
 "nbformat": 4,
 "nbformat_minor": 2
}
